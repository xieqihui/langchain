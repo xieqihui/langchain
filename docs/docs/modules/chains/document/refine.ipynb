{
 "cells": [
  {
   "cell_type": "raw",
   "id": "15868084-aec1-4e58-8524-32cbb12aa272",
   "metadata": {},
   "source": [
    "---\n",
    "sidebar_position: 1\n",
    "title: Refine\n",
    "---"
   ]
  },
  {
   "cell_type": "markdown",
   "id": "2d592270-ebbc-4310-abd8-86ef8d70fe81",
   "metadata": {},
   "source": [
    "# Refine\n",
    "\n",
    "The Refine documents chain constructs a response by looping over the input documents and iteratively updating its answer. For each document, it passes all non-document inputs, the current document, and the latest intermediate answer to an LLM chain to get a new answer.\n",
    "\n",
    "Since the Refine chain only passes a single document to the LLM at a time, it is well-suited for tasks that require analyzing more documents than can fit in the model's context.\n",
    "The obvious tradeoff is that this chain will make far more LLM calls than, for example, the Stuff documents chain.\n",
    "There are also certain tasks which are difficult to accomplish iteratively. For example, the Refine chain can perform poorly when documents frequently cross-reference one another or when a task requires detailed information from many documents.\n",
    "\n",
    "![refine_diagram](/img/refine.jpg)\n"
   ]
  },
  {
   "cell_type": "markdown",
   "id": "644838eb-6dbd-4d29-a557-628c1fa2d4c6",
   "metadata": {},
   "source": [
    "## Recreating with LCEL\n",
    "\n",
    "With [LangChain Expression Language](/docs/expression_language) we can easily recreate the `RefineDocumentsChain`, with the additional benefit of getting all the built-in LCEL features (batch, async, etc.) and with much more ability to customize specific parts of the chain."
   ]
  },
  {
   "cell_type": "code",
   "execution_count": 1,
   "id": "2560d994-e1a4-4fe0-97c7-182b6bd7798b",
   "metadata": {},
   "outputs": [],
   "source": [
    "from functools import partial\n",
    "from operator import itemgetter\n",
    "\n",
    "from langchain.callbacks.manager import trace_as_chain_group\n",
    "from langchain.chat_models import ChatAnthropic\n",
    "from langchain.prompts import PromptTemplate\n",
    "from langchain.schema import StrOutputParser\n",
    "from langchain.schema.prompt_template import format_document"
   ]
  },
  {
   "cell_type": "code",
   "execution_count": 2,
   "id": "f8bb92d8-3961-4a75-b4ad-568a224c78b2",
   "metadata": {},
   "outputs": [],
   "source": [
    "# Chain for generating initial summary based on the first document\n",
    "\n",
    "llm = ChatAnthropic()\n",
    "first_prompt = PromptTemplate.from_template(\"Summarize this content:\\n\\n{context}\")\n",
    "document_prompt = PromptTemplate.from_template(\"{page_content}\")\n",
    "partial_format_doc = partial(format_document, prompt=document_prompt)\n",
    "summary_chain = {\"context\": partial_format_doc} | first_prompt | llm | StrOutputParser()"
   ]
  },
  {
   "cell_type": "code",
   "execution_count": 3,
   "id": "9aedc203-b842-4d1b-84f0-23946b0acc7a",
   "metadata": {},
   "outputs": [],
   "source": [
    "# Chain for refining an existing summary based on\n",
    "# an additional document\n",
    "\n",
    "refine_prompt = PromptTemplate.from_template(\n",
    "    \"Here's your first summary: {prev_response}. \"\n",
    "    \"Now add to it based on the following context: {context}\"\n",
    ")\n",
    "refine_chain = (\n",
    "    {\n",
    "        \"prev_response\": itemgetter(\"prev_response\"),\n",
    "        \"context\": lambda x: partial_format_doc(x[\"doc\"]),\n",
    "    }\n",
    "    | refine_prompt\n",
    "    | llm\n",
    "    | StrOutputParser()\n",
    ")"
   ]
  },
  {
   "cell_type": "code",
   "execution_count": 4,
   "id": "cd118a07-1678-4274-9248-2c88656da686",
   "metadata": {},
   "outputs": [],
   "source": [
    "# The final refine loop, which generates an initial summary\n",
    "# then iteratively refines it based on each of the rest of the documents\n",
    "\n",
    "\n",
    "def refine_loop(docs):\n",
    "    with trace_as_chain_group(\"refine loop\", inputs={\"input\": docs}) as manager:\n",
    "        summary = summary_chain.invoke(\n",
    "            docs[0], config={\"callbacks\": manager, \"run_name\": \"initial summary\"}\n",
    "        )\n",
    "        for i, doc in enumerate(docs[1:]):\n",
    "            summary = refine_chain.invoke(\n",
    "                {\"prev_response\": summary, \"doc\": doc},\n",
    "                config={\"callbacks\": manager, \"run_name\": f\"refine {i}\"},\n",
    "            )\n",
    "        manager.on_chain_end({\"output\": summary})\n",
    "    return summary"
   ]
  },
  {
   "cell_type": "markdown",
   "id": "0d2ec3b0-a47a-4344-8f12-8bb644fdccae",
   "metadata": {},
   "source": [
    "## Example run"
   ]
  },
  {
   "cell_type": "code",
   "execution_count": 5,
   "id": "d8242337-3aa4-4377-bd4c-3bf0c01f9dd7",
   "metadata": {},
   "outputs": [],
   "source": [
    "from langchain.schema import Document\n",
    "\n",
    "text = \"\"\"Nuclear power in space is the use of nuclear power in outer space, typically either small fission systems or radioactive decay for electricity or heat. Another use is for scientific observation, as in a Mössbauer spectrometer. The most common type is a radioisotope thermoelectric generator, which has been used on many space probes and on crewed lunar missions. Small fission reactors for Earth observation satellites, such as the TOPAZ nuclear reactor, have also been flown.[1] A radioisotope heater unit is powered by radioactive decay and can keep components from becoming too cold to function, potentially over a span of decades.[2]\n",
    "\n",
    "The United States tested the SNAP-10A nuclear reactor in space for 43 days in 1965,[3] with the next test of a nuclear reactor power system intended for space use occurring on 13 September 2012 with the Demonstration Using Flattop Fission (DUFF) test of the Kilopower reactor.[4]\n",
    "\n",
    "After a ground-based test of the experimental 1965 Romashka reactor, which used uranium and direct thermoelectric conversion to electricity,[5] the USSR sent about 40 nuclear-electric satellites into space, mostly powered by the BES-5 reactor. The more powerful TOPAZ-II reactor produced 10 kilowatts of electricity.[3]\n",
    "\n",
    "Examples of concepts that use nuclear power for space propulsion systems include the nuclear electric rocket (nuclear powered ion thruster(s)), the radioisotope rocket, and radioisotope electric propulsion (REP).[6] One of the more explored concepts is the nuclear thermal rocket, which was ground tested in the NERVA program. Nuclear pulse propulsion was the subject of Project Orion.[7]\n",
    "\n",
    "Regulation and hazard prevention[edit]\n",
    "After the ban of nuclear weapons in space by the Outer Space Treaty in 1967, nuclear power has been discussed at least since 1972 as a sensitive issue by states.[8] Particularly its potential hazards to Earth's environment and thus also humans has prompted states to adopt in the U.N. General Assembly the Principles Relevant to the Use of Nuclear Power Sources in Outer Space (1992), particularly introducing safety principles for launches and to manage their traffic.[8]\n",
    "\n",
    "Benefits\n",
    "\n",
    "Both the Viking 1 and Viking 2 landers used RTGs for power on the surface of Mars. (Viking launch vehicle pictured)\n",
    "While solar power is much more commonly used, nuclear power can offer advantages in some areas. Solar cells, although efficient, can only supply energy to spacecraft in orbits where the solar flux is sufficiently high, such as low Earth orbit and interplanetary destinations close enough to the Sun. Unlike solar cells, nuclear power systems function independently of sunlight, which is necessary for deep space exploration. Nuclear-based systems can have less mass than solar cells of equivalent power, allowing more compact spacecraft that are easier to orient and direct in space. In the case of crewed spaceflight, nuclear power concepts that can power both life support and propulsion systems may reduce both cost and flight time.[9]\n",
    "\n",
    "Selected applications and/or technologies for space include:\n",
    "\n",
    "Radioisotope thermoelectric generator\n",
    "Radioisotope heater unit\n",
    "Radioisotope piezoelectric generator\n",
    "Radioisotope rocket\n",
    "Nuclear thermal rocket\n",
    "Nuclear pulse propulsion\n",
    "Nuclear electric rocket\n",
    "\"\"\"\n",
    "\n",
    "docs = [\n",
    "    Document(\n",
    "        page_content=split,\n",
    "        metadata={\"source\": \"https://en.wikipedia.org/wiki/Nuclear_power_in_space\"},\n",
    "    )\n",
    "    for split in text.split(\"\\n\\n\")\n",
    "]"
   ]
  },
  {
   "cell_type": "code",
   "execution_count": 6,
   "id": "68f23401-cb6b-4500-8576-7e1c9254dfef",
   "metadata": {},
   "outputs": [
    {
     "name": "stdout",
     "output_type": "stream",
     "text": [
      " Here is the updated summary with the additional context:\n",
      "\n",
      "Here is a summary of the key points about nuclear power in space:\n",
      "\n",
      "- Nuclear power is used in space for electricity, heat, and scientific observation. The most common type is a radioisotope thermoelectric generator (RTG), which uses radioactive decay to generate electricity. RTGs have powered space probes and crewed lunar missions. \n",
      "\n",
      "- Small nuclear fission reactors have also been used to power Earth observation satellites, like the TOPAZ reactor. The United States tested the SNAP-10A nuclear reactor in space for 43 days in 1965.\n",
      "\n",
      "- After a ground-based test of the experimental 1965 Romashka reactor, which used uranium and direct thermoelectric conversion to electricity, the USSR sent about 40 nuclear-electric satellites into space, mostly powered by the BES-5 reactor. The more powerful TOPAZ-II reactor produced 10 kilowatts of electricity.\n",
      "\n",
      "- Radioisotope heater units use radioactive decay for heat. They can keep components warm enough to function over decades.\n",
      "\n",
      "- Nuclear power concepts have also been proposed and tested for space propulsion. Examples include the nuclear electric rocket (nuclear powered ion thruster(s)), the radioisotope\n"
     ]
    }
   ],
   "source": [
    "print(refine_loop(docs))"
   ]
  },
  {
   "cell_type": "code",
   "execution_count": null,
   "id": "1db2ea25-0f93-4e23-8793-b7b94df8be07",
   "metadata": {},
   "outputs": [],
   "source": []
  }
 ],
 "metadata": {
  "kernelspec": {
   "display_name": "poetry-venv",
   "language": "python",
   "name": "poetry-venv"
  },
  "language_info": {
   "codemirror_mode": {
    "name": "ipython",
    "version": 3
   },
   "file_extension": ".py",
   "mimetype": "text/x-python",
   "name": "python",
   "nbconvert_exporter": "python",
   "pygments_lexer": "ipython3",
   "version": "3.9.1"
  }
 },
 "nbformat": 4,
 "nbformat_minor": 5
}
