{
 "cells": [
  {
   "cell_type": "markdown",
   "id": "bb9b2af6-325f-4d1e-8e74-96ca5c2e27c5",
   "metadata": {},
   "source": [
    "# OpenClip\n",
    "\n",
    "[OpenClip](https://github.com/mlfoundations/open_clip/tree/main) is an source implementation of OpenAI's CLIP.\n",
    "\n",
    "These multi-modal embeddings can be used to embed images or text.\n",
    "\n",
    "For text, use the same method `embed_documents` as with other embedding models.\n",
    "\n",
    "For images, use `embed_image` and simply pass a numpy array."
   ]
  },
  {
   "cell_type": "code",
   "execution_count": null,
   "id": "570d818f-5705-4532-8e77-b0f335bb515d",
   "metadata": {},
   "outputs": [],
   "source": [
    "! pip install pillow open_clip_torch torch"
   ]
  },
  {
   "cell_type": "code",
   "execution_count": 4,
   "id": "c4fc9af7-5659-4008-b6a3-0f99c68324aa",
   "metadata": {},
   "outputs": [],
   "source": [
    "import numpy as np\n",
    "import seaborn as sns\n",
    "from PIL import Image as _PILImage\n",
    "from langchain.embeddings import OpenCLIPEmbeddings\n",
    "\n",
    "# Images\n",
    "img_path_dog='/Users/rlm/Desktop/Papers/LLaVA/dog.jpeg'\n",
    "img_path_house='/Users/rlm/Desktop/Papers/LLaVA/house.jpeg'\n",
    "\n",
    "# Load images and convert to numpy arrays\n",
    "image_np_dog = np.array(_PILImage.open(img_path_dog).convert(\"RGB\"))\n",
    "image_np_house = np.array(_PILImage.open(img_path_house).convert(\"RGB\"))\n",
    "\n",
    "# Embe images or text\n",
    "clip_embd = OpenCLIPEmbeddings()\n",
    "img_feat_dog = clip_embd.embed_image([image_np_dog])\n",
    "img_feat_house = clip_embd.embed_image([image_np_house])\n",
    "text_feat_dog = clip_embd.embed_documents([\"dog\"])\n",
    "text_feat_house = clip_embd.embed_documents([\"house\"])"
   ]
  },
  {
   "cell_type": "markdown",
   "id": "52b5e8d0-d1c7-475f-9d33-b8a1c492398a",
   "metadata": {},
   "source": [
    "## Sanity check\n",
    "\n",
    "We can check simiarlity. "
   ]
  },
  {
   "cell_type": "code",
   "execution_count": 7,
   "id": "6d7962f3-8f05-463d-97b2-955eaa89d18d",
   "metadata": {},
   "outputs": [
    {
     "name": "stdout",
     "output_type": "stream",
     "text": [
      "(2, 2)\n"
     ]
    },
    {
     "data": {
      "text/plain": [
       "<Axes: >"
      ]
     },
     "execution_count": 7,
     "metadata": {},
     "output_type": "execute_result"
    },
    {
     "data": {
      "image/png": "[encoded data removed]",
      "text/plain": [
       "<Figure size 640x480 with 2 Axes>"
      ]
     },
     "metadata": {},
     "output_type": "display_data"
    }
   ],
   "source": [
    "# Convert to numpy arrays\n",
    "img_feat_dog_np = np.array(img_feat_dog[0])\n",
    "img_feat_house_np = np.array(img_feat_house[0])\n",
    "text_feat_dog_np = np.array(text_feat_dog[0])\n",
    "text_feat_house_np = np.array(text_feat_house[0])\n",
    "\n",
    "# Compute similarity\n",
    "similarities = np.array([\n",
    "    [text_feat_dog_np @ img_feat_dog_np.T][0][0], \n",
    "    [text_feat_dog_np @ img_feat_house_np.T][0][0],\n",
    "    [text_feat_house_np @ img_feat_dog_np.T][0][0], \n",
    "    [text_feat_house_np @ img_feat_house_np.T][0][0]\n",
    "]).reshape(2, 2)\n",
    "\n",
    "# Ensure similarities is of shape (2, 2)\n",
    "print(similarities.shape)  # Expected: (2, 2)\n",
    "\n",
    "# Plot heatmap\n",
    "sns.heatmap(similarities, annot=True, cmap='viridis', xticklabels=['dog image', 'house image'], yticklabels=['dog text', 'house text'])\n"
   ]
  }
 ],
 "metadata": {
  "kernelspec": {
   "display_name": "Python 3 (ipykernel)",
   "language": "python",
   "name": "python3"
  },
  "language_info": {
   "codemirror_mode": {
    "name": "ipython",
    "version": 3
   },
   "file_extension": ".py",
   "mimetype": "text/x-python",
   "name": "python",
   "nbconvert_exporter": "python",
   "pygments_lexer": "ipython3",
   "version": "3.9.16"
  }
 },
 "nbformat": 4,
 "nbformat_minor": 5
}
