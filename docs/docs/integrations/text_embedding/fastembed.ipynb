{
 "cells": [
  {
   "cell_type": "markdown",
   "metadata": {},
   "source": [
    "# Qdrant FastEmbed\n",
    "\n",
    "[FastEmbed](https://qdrant.github.io/fastembed/) is a lightweight, fast, Python library built for embedding generation. \n",
    "\n",
    "- Quantized model weights\n",
    "- ONNX Runtime, no PyTorch dependency\n",
    "- CPU-first design\n",
    "- Data-parallelism for encoding of large datasets."
   ]
  },
  {
   "attachments": {},
   "cell_type": "markdown",
   "id": "2a773d8d",
   "metadata": {},
   "source": [
    "## Dependencies\n",
    "\n",
    "To use FastEmbed with LangChain, install the `fastembed` Python package."
   ]
  },
  {
   "cell_type": "code",
   "execution_count": null,
   "id": "91ea14ce-831d-409a-a88f-30353acdabd1",
   "metadata": {
    "tags": []
   },
   "outputs": [],
   "source": [
    "%pip install fastembed"
   ]
  },
  {
   "attachments": {},
   "cell_type": "markdown",
   "id": "426f1156",
   "metadata": {},
   "source": [
    "## Imports"
   ]
  },
  {
   "cell_type": "code",
   "execution_count": 2,
   "id": "3f5dc9d7-65e3-4b5b-9086-3327d016cfe0",
   "metadata": {
    "tags": []
   },
   "outputs": [],
   "source": [
    "from langchain.embeddings.fastembed import FastEmbedEmbeddings"
   ]
  },
  {
   "cell_type": "markdown",
   "metadata": {},
   "source": [
    "## Instantiating FastEmbed\n",
    "   \n",
    "### Parameters\n",
    "- `model_name: str` (default: \"BAAI/bge-small-en-v1.5\")\n",
    "    > Name of the FastEmbedding model to use. You can find the list of supported models [here](https://qdrant.github.io/fastembed/examples/Supported_Models/).\n",
    "\n",
    "- `max_length: int` (default: 512)\n",
    "    > The maximum number of tokens. Unknown behavior for values > 512.\n",
    "\n",
    "- `cache_dir: Optional[str]`\n",
    "    > The path to the cache directory. Defaults to `local_cache` in the parent directory.\n",
    "\n",
    "- `threads: Optional[int]`\n",
    "    > The number of threads a single onnxruntime session can use. Defaults to None.\n",
    "\n",
    "- `doc_embed_type: Literal[\"default\", \"passage\"]` (default: \"default\")\n",
    "    > \"default\": Uses FastEmbed's default embedding method.\n",
    "    \n",
    "    > \"passage\": Prefixes the text with \"passage\" before embedding."
   ]
  },
  {
   "cell_type": "code",
   "execution_count": null,
   "id": "6fb585dd",
   "metadata": {
    "tags": []
   },
   "outputs": [],
   "source": [
    "embeddings = FastEmbedEmbeddings()"
   ]
  },
  {
   "cell_type": "markdown",
   "metadata": {},
   "source": [
    "## Usage\n",
    "\n",
    "### Generating document embeddings"
   ]
  },
  {
   "cell_type": "code",
   "execution_count": null,
   "metadata": {},
   "outputs": [],
   "source": [
    "document_embeddings = embeddings.embed_documents([\"This is a document\", \"This is some other document\"])"
   ]
  },
  {
   "cell_type": "markdown",
   "metadata": {},
   "source": [
    "### Generating query embeddings"
   ]
  },
  {
   "cell_type": "code",
   "execution_count": null,
   "metadata": {},
   "outputs": [],
   "source": [
    "query_embeddings = embeddings.embed_query(\"This is a query\")"
   ]
  }
 ],
 "metadata": {
  "kernelspec": {
   "display_name": "Python 3 (ipykernel)",
   "language": "python",
   "name": "python3"
  },
  "language_info": {
   "codemirror_mode": {
    "name": "ipython",
    "version": 3
   },
   "file_extension": ".py",
   "mimetype": "text/x-python",
   "name": "python",
   "nbconvert_exporter": "python",
   "pygments_lexer": "ipython3",
   "version": "3.11.6"
  }
 },
 "nbformat": 4,
 "nbformat_minor": 5
}
