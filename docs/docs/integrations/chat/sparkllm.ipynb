{
 "cells": [
  {
   "cell_type": "markdown",
   "id": "3ddface67cd10a87",
   "metadata": {
    "collapsed": false
   },
   "source": [
    "# SparkLLM Chat\n",
    "\n",
    "SparkLLM chat models API by iFlyTek. For more information, see [iFlyTek Open Platform](https://www.xfyun.cn/)."
   ]
  },
  {
   "cell_type": "markdown",
   "metadata": {},
   "source": [
    "## Basic use"
   ]
  },
  {
   "cell_type": "code",
   "execution_count": null,
   "id": "43daa39972d4c533",
   "metadata": {
    "collapsed": false,
    "is_executing": true
   },
   "outputs": [],
   "source": [
    "\"\"\"For basic init and call\"\"\"\n",
    "from langchain.chat_models import ChatSparkLLM\n",
    "from langchain.schema import HumanMessage\n",
    "\n",
    "chat = ChatSparkLLM(\n",
    "    spark_app_id=\"<app_id>\", spark_api_key=\"<api_key>\", spark_api_secret=\"<api_secret>\"\n",
    ")\n",
    "message = HumanMessage(content=\"Hello\")\n",
    "chat([message])"
   ]
  },
  {
   "cell_type": "markdown",
   "id": "df755f4c5689510",
   "metadata": {
    "collapsed": false
   },
   "source": [
    "- Get SparkLLM's app_id, api_key and api_secret from [iFlyTek SparkLLM API Console](https://console.xfyun.cn/services/bm3) (for more info, see [iFlyTek SparkLLM Intro](https://xinghuo.xfyun.cn/sparkapi) ), then set environment variables `IFLYTEK_SPARK_APP_ID`, `IFLYTEK_SPARK_API_KEY` and `IFLYTEK_SPARK_API_SECRET` or pass parameters when creating `ChatSparkLLM` as the demo above."
   ]
  },
  {
   "cell_type": "markdown",
   "id": "984e32ee47bc6772",
   "metadata": {
    "collapsed": false
   },
   "source": [
    "## For ChatSparkLLM with Streaming"
   ]
  },
  {
   "cell_type": "code",
   "execution_count": null,
   "id": "7dc162bd65fec08f",
   "metadata": {
    "collapsed": false
   },
   "outputs": [],
   "source": [
    "chat = ChatSparkLLM(streaming=True)\n",
    "for chunk in chat.stream(\"Hello!\"):\n",
    "    print(chunk.content, end=\"\")"
   ]
  }
 ],
 "metadata": {
  "kernelspec": {
   "display_name": "Python 3",
   "language": "python",
   "name": "python3"
  },
  "language_info": {
   "codemirror_mode": {
    "name": "ipython",
    "version": 2
   },
   "file_extension": ".py",
   "mimetype": "text/x-python",
   "name": "python",
   "nbconvert_exporter": "python",
   "pygments_lexer": "ipython2",
   "version": "2.7.6"
  }
 },
 "nbformat": 4,
 "nbformat_minor": 5
}
