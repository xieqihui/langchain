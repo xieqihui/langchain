{
 "cells": [
  {
   "cell_type": "markdown",
   "id": "136d9ba6-c42a-435b-9e19-77ebcc7a3145",
   "metadata": {},
   "source": [
    "# ChatKonko\n",
    "\n",
    ">[Konko](https://www.konko.ai/) API is a fully managed Web API designed to help application developers:\n",
    "\n",
    "Konko API is a fully managed API designed to help application developers:\n",
    "\n",
    "1. Select the right LLM(s) for their application\n",
    "2. Prototype with various open-source and proprietary LLMs\n",
    "3. Access Fine Tuning for open-source LLMs to get industry-leading performance at a fraction of the cost\n",
    "4. Setup low-cost production APIs according to security, privacy, throughput, latency SLAs without infrastructure set-up or administration using Konko AI's SOC 2 compliant, multi-cloud infrastructure\n"
   ]
  },
  {
   "cell_type": "markdown",
   "id": "0d896d07-82b4-4f38-8c37-f0bc8b0e4fe1",
   "metadata": {},
   "source": [
    "### Steps to Access Models\n",
    "1. **Explore Available Models:** Start by browsing through the [available models](https://docs.konko.ai/docs/list-of-models) on Konko. Each model caters to different use cases and capabilities.\n",
    "\n",
    "2. **Identify Suitable Endpoints:** Determine which [endpoint](https://docs.konko.ai/docs/list-of-models#list-of-available-models) (ChatCompletion or Completion) supports your selected model.\n",
    "\n",
    "3. **Selecting a Model:** [Choose a model](https://docs.konko.ai/docs/list-of-models#list-of-available-models) based on its metadata and how well it fits your use case.\n",
    "\n",
    "4. **Prompting Guidelines:** Once a model is selected, refer to the [prompting guidelines](https://docs.konko.ai/docs/prompting) to effectively communicate with it.\n",
    "\n",
    "5. **Using the API:** Finally, use the appropriate Konko [API endpoint](https://docs.konko.ai/docs/quickstart-for-completion-and-chat-completion-endpoint) to call the model and receive responses.\n",
    "\n",
    "This example goes over how to use LangChain to interact with `Konko` completion [models](https://docs.konko.ai/docs/list-of-models#konko-hosted-models-for-completion)\n",
    "\n",
    "To run this notebook, you'll need Konko API key. You can create one by signing up on [Konko](https://www.konko.ai/)."
   ]
  },
  {
   "cell_type": "code",
   "execution_count": 1,
   "id": "dd70bccb-7a65-42d0-a3f2-8116f3549da7",
   "metadata": {},
   "outputs": [
    {
     "name": "stdout",
     "output_type": "stream",
     "text": [
      "\n",
      "\n",
      "Answer:\n",
      "The Big Bang Theory is a theory that explains the origin of the universe. According to the theory, the universe began with a single point of infinite density and temperature. This point is called the singularity. The singularity exploded and expanded rapidly. The expansion of the universe is still continuing.\n",
      "The Big Bang Theory is a theory that explains the origin of the universe. According to the theory, the universe began with a single point of infinite density and temperature. This point is called the singularity. The singularity exploded and expanded rapidly. The expansion of the universe is still continuing.\n",
      "\n",
      "Question\n"
     ]
    }
   ],
   "source": [
    "from langchain.llms import Konko\n",
    "\n",
    "llm = Konko(model=\"mistralai/mistral-7b-v0.1\", temperature=0.1, max_tokens=128)\n",
    "\n",
    "input_ = \"\"\"You are a helpful assistant. Explain Big Bang Theory briefly.\"\"\"\n",
    "print(llm(input_))"
   ]
  },
  {
   "cell_type": "code",
   "execution_count": null,
   "id": "78148bf7-2211-40b4-93a7-e90139ab1169",
   "metadata": {},
   "outputs": [],
   "source": []
  }
 ],
 "metadata": {
  "kernelspec": {
   "display_name": "Python 3 (ipykernel)",
   "language": "python",
   "name": "python3"
  },
  "language_info": {
   "codemirror_mode": {
    "name": "ipython",
    "version": 3
   },
   "file_extension": ".py",
   "mimetype": "text/x-python",
   "name": "python",
   "nbconvert_exporter": "python",
   "pygments_lexer": "ipython3",
   "version": "3.11.3"
  }
 },
 "nbformat": 4,
 "nbformat_minor": 5
}
